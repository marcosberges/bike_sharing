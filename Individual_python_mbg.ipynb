{
 "cells": [
  {
   "cell_type": "markdown",
   "metadata": {},
   "source": [
    "# Bike Sharing analysis using Dask Structures\n",
    "\n",
    "\n",
    "Course: Advanced Python \n",
    "Date: May/19/2019\n",
    "\n",
    "Author: Marcos Bergés\n",
    "\n"
   ]
  },
  {
   "cell_type": "markdown",
   "metadata": {},
   "source": [
    "# Loading Libraries"
   ]
  },
  {
   "cell_type": "code",
   "execution_count": 26,
   "metadata": {},
   "outputs": [],
   "source": [
    "import pandas as pd\n",
    "from dask import dataframe as dd\n",
    "from dask_ml.linear_model import LinearRegression\n",
    "from dask_ml.preprocessing import Categorizer, DummyEncoder, MinMaxScaler, StandardScaler\n",
    "from sklearn.pipeline import Pipeline, make_pipeline\n",
    "from sklearn.metrics import r2_score, explained_variance_score\n",
    "from dask_ml.metrics import mean_squared_error\n",
    "import dask_ml.model_selection as dcv\n",
    "import dask_ml\n",
    "from scipy import stats\n",
    "from distributed import Client, progress"
   ]
  },
  {
   "cell_type": "markdown",
   "metadata": {},
   "source": [
    "# Loading Data"
   ]
  },
  {
   "cell_type": "code",
   "execution_count": 5,
   "metadata": {},
   "outputs": [],
   "source": [
    "ddf=dd.read_csv(\n",
    "    \"https://s3.amazonaws.com/dask-bike/hour.csv?versionId=6G.uFUQD_PJbnvTr4EEbPjYOMQqiEvul\",\n",
    "    sep=\",\",\n",
    "    parse_dates=[\"dteday\"])"
   ]
  },
  {
   "cell_type": "markdown",
   "metadata": {},
   "source": [
    "# Pre-processing"
   ]
  },
  {
   "cell_type": "markdown",
   "metadata": {},
   "source": [
    "Renaming Columns"
   ]
  },
  {
   "cell_type": "code",
   "execution_count": 6,
   "metadata": {},
   "outputs": [],
   "source": [
    "ddf = ddf.rename(\n",
    "    columns={\n",
    "        \"weathersit\": \"weather\",\n",
    "        \"mnth\": \"month\",\n",
    "        \"hr\": \"hour\",\n",
    "        \"hum\": \"humidity\",\n",
    "        \"cnt\": \"count\",\n",
    "        \"yr\": \"year\",\n",
    "    })\n",
    "\n",
    "ddf = ddf.drop([\"dteday\"], axis=1)"
   ]
  },
  {
   "cell_type": "markdown",
   "metadata": {},
   "source": [
    "Categorizing and One-hot Encoding"
   ]
  },
  {
   "cell_type": "code",
   "execution_count": 7,
   "metadata": {},
   "outputs": [],
   "source": [
    "cats= [\"month\",\"hour\",\"holiday\",\"weekday\",\"workingday\",\"weather\"]\n",
    "\n",
    "pipeline = make_pipeline(Categorizer(columns=cats), DummyEncoder(),)\n",
    "\n",
    "ddf_onehot=pipeline.fit_transform(ddf)"
   ]
  },
  {
   "cell_type": "markdown",
   "metadata": {},
   "source": [
    "Normalizing"
   ]
  },
  {
   "cell_type": "code",
   "execution_count": 8,
   "metadata": {},
   "outputs": [],
   "source": [
    "cols = list(ddf_onehot.columns[2:6])\n",
    "\n",
    "scaler=MinMaxScaler()\n",
    "\n",
    "ddf_onehot[cols]=scaler.fit_transform(ddf_onehot[cols])"
   ]
  },
  {
   "cell_type": "code",
   "execution_count": null,
   "metadata": {},
   "outputs": [],
   "source": []
  },
  {
   "cell_type": "markdown",
   "metadata": {},
   "source": [
    "Fixing Skewness"
   ]
  },
  {
   "cell_type": "code",
   "execution_count": 9,
   "metadata": {},
   "outputs": [],
   "source": [
    "def correct_skewness(columns=None, max_skewness=0.5):\n",
    "    if columns is None:\n",
    "        raise ValueError(\n",
    "            f\"columns argument is None. Please set columns argument to a list of columns\"\n",
    "        )\n",
    "\n",
    "\n",
    "    for col in columns:\n",
    "        skewness = stats.skew(ddf_onehot[col])\n",
    "        max_val = ddf_onehot[col].max().compute()\n",
    "        min_val = ddf_onehot[col].min().compute()\n",
    "\n",
    "        if abs(skewness) > max_skewness and (max_val > 1 or min_val < 0):\n",
    "            delta = 1.0\n",
    "            if min_val < 0:\n",
    "                delta = max(1, -min_val + 1)\n",
    "            ddf_onehot[col] = da.log(delta + ddf_onehot[col])\n",
    "    return ddf_onehot\n"
   ]
  },
  {
   "cell_type": "code",
   "execution_count": 10,
   "metadata": {},
   "outputs": [
    {
     "data": {
      "text/html": [
       "<div><strong>Dask DataFrame Structure:</strong></div>\n",
       "<div>\n",
       "<style scoped>\n",
       "    .dataframe tbody tr th:only-of-type {\n",
       "        vertical-align: middle;\n",
       "    }\n",
       "\n",
       "    .dataframe tbody tr th {\n",
       "        vertical-align: top;\n",
       "    }\n",
       "\n",
       "    .dataframe thead th {\n",
       "        text-align: right;\n",
       "    }\n",
       "</style>\n",
       "<table border=\"1\" class=\"dataframe\">\n",
       "  <thead>\n",
       "    <tr style=\"text-align: right;\">\n",
       "      <th></th>\n",
       "      <th>instant</th>\n",
       "      <th>season</th>\n",
       "      <th>year</th>\n",
       "      <th>temp</th>\n",
       "      <th>atemp</th>\n",
       "      <th>humidity</th>\n",
       "      <th>windspeed</th>\n",
       "      <th>casual</th>\n",
       "      <th>registered</th>\n",
       "      <th>count</th>\n",
       "      <th>month_1</th>\n",
       "      <th>month_2</th>\n",
       "      <th>month_3</th>\n",
       "      <th>month_4</th>\n",
       "      <th>month_5</th>\n",
       "      <th>month_6</th>\n",
       "      <th>month_7</th>\n",
       "      <th>month_8</th>\n",
       "      <th>month_9</th>\n",
       "      <th>month_10</th>\n",
       "      <th>month_11</th>\n",
       "      <th>month_12</th>\n",
       "      <th>hour_0</th>\n",
       "      <th>hour_1</th>\n",
       "      <th>hour_2</th>\n",
       "      <th>hour_3</th>\n",
       "      <th>hour_4</th>\n",
       "      <th>hour_5</th>\n",
       "      <th>hour_6</th>\n",
       "      <th>hour_7</th>\n",
       "      <th>hour_8</th>\n",
       "      <th>hour_9</th>\n",
       "      <th>hour_10</th>\n",
       "      <th>hour_11</th>\n",
       "      <th>hour_12</th>\n",
       "      <th>hour_13</th>\n",
       "      <th>hour_14</th>\n",
       "      <th>hour_15</th>\n",
       "      <th>hour_16</th>\n",
       "      <th>hour_17</th>\n",
       "      <th>hour_18</th>\n",
       "      <th>hour_19</th>\n",
       "      <th>hour_20</th>\n",
       "      <th>hour_21</th>\n",
       "      <th>hour_22</th>\n",
       "      <th>hour_23</th>\n",
       "      <th>holiday_0</th>\n",
       "      <th>holiday_1</th>\n",
       "      <th>weekday_6</th>\n",
       "      <th>weekday_0</th>\n",
       "      <th>weekday_1</th>\n",
       "      <th>weekday_2</th>\n",
       "      <th>weekday_3</th>\n",
       "      <th>weekday_4</th>\n",
       "      <th>weekday_5</th>\n",
       "      <th>workingday_0</th>\n",
       "      <th>workingday_1</th>\n",
       "      <th>weather_1</th>\n",
       "      <th>weather_2</th>\n",
       "      <th>weather_3</th>\n",
       "      <th>weather_4</th>\n",
       "    </tr>\n",
       "    <tr>\n",
       "      <th>npartitions=1</th>\n",
       "      <th></th>\n",
       "      <th></th>\n",
       "      <th></th>\n",
       "      <th></th>\n",
       "      <th></th>\n",
       "      <th></th>\n",
       "      <th></th>\n",
       "      <th></th>\n",
       "      <th></th>\n",
       "      <th></th>\n",
       "      <th></th>\n",
       "      <th></th>\n",
       "      <th></th>\n",
       "      <th></th>\n",
       "      <th></th>\n",
       "      <th></th>\n",
       "      <th></th>\n",
       "      <th></th>\n",
       "      <th></th>\n",
       "      <th></th>\n",
       "      <th></th>\n",
       "      <th></th>\n",
       "      <th></th>\n",
       "      <th></th>\n",
       "      <th></th>\n",
       "      <th></th>\n",
       "      <th></th>\n",
       "      <th></th>\n",
       "      <th></th>\n",
       "      <th></th>\n",
       "      <th></th>\n",
       "      <th></th>\n",
       "      <th></th>\n",
       "      <th></th>\n",
       "      <th></th>\n",
       "      <th></th>\n",
       "      <th></th>\n",
       "      <th></th>\n",
       "      <th></th>\n",
       "      <th></th>\n",
       "      <th></th>\n",
       "      <th></th>\n",
       "      <th></th>\n",
       "      <th></th>\n",
       "      <th></th>\n",
       "      <th></th>\n",
       "      <th></th>\n",
       "      <th></th>\n",
       "      <th></th>\n",
       "      <th></th>\n",
       "      <th></th>\n",
       "      <th></th>\n",
       "      <th></th>\n",
       "      <th></th>\n",
       "      <th></th>\n",
       "      <th></th>\n",
       "      <th></th>\n",
       "      <th></th>\n",
       "      <th></th>\n",
       "      <th></th>\n",
       "      <th></th>\n",
       "    </tr>\n",
       "  </thead>\n",
       "  <tbody>\n",
       "    <tr>\n",
       "      <th></th>\n",
       "      <td>int64</td>\n",
       "      <td>int64</td>\n",
       "      <td>float64</td>\n",
       "      <td>float64</td>\n",
       "      <td>float64</td>\n",
       "      <td>float64</td>\n",
       "      <td>float64</td>\n",
       "      <td>int64</td>\n",
       "      <td>int64</td>\n",
       "      <td>int64</td>\n",
       "      <td>uint8</td>\n",
       "      <td>uint8</td>\n",
       "      <td>uint8</td>\n",
       "      <td>uint8</td>\n",
       "      <td>uint8</td>\n",
       "      <td>uint8</td>\n",
       "      <td>uint8</td>\n",
       "      <td>uint8</td>\n",
       "      <td>uint8</td>\n",
       "      <td>uint8</td>\n",
       "      <td>uint8</td>\n",
       "      <td>uint8</td>\n",
       "      <td>uint8</td>\n",
       "      <td>uint8</td>\n",
       "      <td>uint8</td>\n",
       "      <td>uint8</td>\n",
       "      <td>uint8</td>\n",
       "      <td>uint8</td>\n",
       "      <td>uint8</td>\n",
       "      <td>uint8</td>\n",
       "      <td>uint8</td>\n",
       "      <td>uint8</td>\n",
       "      <td>uint8</td>\n",
       "      <td>uint8</td>\n",
       "      <td>uint8</td>\n",
       "      <td>uint8</td>\n",
       "      <td>uint8</td>\n",
       "      <td>uint8</td>\n",
       "      <td>uint8</td>\n",
       "      <td>uint8</td>\n",
       "      <td>uint8</td>\n",
       "      <td>uint8</td>\n",
       "      <td>uint8</td>\n",
       "      <td>uint8</td>\n",
       "      <td>uint8</td>\n",
       "      <td>uint8</td>\n",
       "      <td>uint8</td>\n",
       "      <td>uint8</td>\n",
       "      <td>uint8</td>\n",
       "      <td>uint8</td>\n",
       "      <td>uint8</td>\n",
       "      <td>uint8</td>\n",
       "      <td>uint8</td>\n",
       "      <td>uint8</td>\n",
       "      <td>uint8</td>\n",
       "      <td>uint8</td>\n",
       "      <td>uint8</td>\n",
       "      <td>uint8</td>\n",
       "      <td>uint8</td>\n",
       "      <td>uint8</td>\n",
       "      <td>uint8</td>\n",
       "    </tr>\n",
       "    <tr>\n",
       "      <th></th>\n",
       "      <td>...</td>\n",
       "      <td>...</td>\n",
       "      <td>...</td>\n",
       "      <td>...</td>\n",
       "      <td>...</td>\n",
       "      <td>...</td>\n",
       "      <td>...</td>\n",
       "      <td>...</td>\n",
       "      <td>...</td>\n",
       "      <td>...</td>\n",
       "      <td>...</td>\n",
       "      <td>...</td>\n",
       "      <td>...</td>\n",
       "      <td>...</td>\n",
       "      <td>...</td>\n",
       "      <td>...</td>\n",
       "      <td>...</td>\n",
       "      <td>...</td>\n",
       "      <td>...</td>\n",
       "      <td>...</td>\n",
       "      <td>...</td>\n",
       "      <td>...</td>\n",
       "      <td>...</td>\n",
       "      <td>...</td>\n",
       "      <td>...</td>\n",
       "      <td>...</td>\n",
       "      <td>...</td>\n",
       "      <td>...</td>\n",
       "      <td>...</td>\n",
       "      <td>...</td>\n",
       "      <td>...</td>\n",
       "      <td>...</td>\n",
       "      <td>...</td>\n",
       "      <td>...</td>\n",
       "      <td>...</td>\n",
       "      <td>...</td>\n",
       "      <td>...</td>\n",
       "      <td>...</td>\n",
       "      <td>...</td>\n",
       "      <td>...</td>\n",
       "      <td>...</td>\n",
       "      <td>...</td>\n",
       "      <td>...</td>\n",
       "      <td>...</td>\n",
       "      <td>...</td>\n",
       "      <td>...</td>\n",
       "      <td>...</td>\n",
       "      <td>...</td>\n",
       "      <td>...</td>\n",
       "      <td>...</td>\n",
       "      <td>...</td>\n",
       "      <td>...</td>\n",
       "      <td>...</td>\n",
       "      <td>...</td>\n",
       "      <td>...</td>\n",
       "      <td>...</td>\n",
       "      <td>...</td>\n",
       "      <td>...</td>\n",
       "      <td>...</td>\n",
       "      <td>...</td>\n",
       "      <td>...</td>\n",
       "    </tr>\n",
       "  </tbody>\n",
       "</table>\n",
       "</div>\n",
       "<div>Dask Name: assign, 32 tasks</div>"
      ],
      "text/plain": [
       "Dask DataFrame Structure:\n",
       "              instant season     year     temp    atemp humidity windspeed casual registered  count month_1 month_2 month_3 month_4 month_5 month_6 month_7 month_8 month_9 month_10 month_11 month_12 hour_0 hour_1 hour_2 hour_3 hour_4 hour_5 hour_6 hour_7 hour_8 hour_9 hour_10 hour_11 hour_12 hour_13 hour_14 hour_15 hour_16 hour_17 hour_18 hour_19 hour_20 hour_21 hour_22 hour_23 holiday_0 holiday_1 weekday_6 weekday_0 weekday_1 weekday_2 weekday_3 weekday_4 weekday_5 workingday_0 workingday_1 weather_1 weather_2 weather_3 weather_4\n",
       "npartitions=1                                                                                                                                                                                                                                                                                                                                                                                                                                                                                                                                           \n",
       "                int64  int64  float64  float64  float64  float64   float64  int64      int64  int64   uint8   uint8   uint8   uint8   uint8   uint8   uint8   uint8   uint8    uint8    uint8    uint8  uint8  uint8  uint8  uint8  uint8  uint8  uint8  uint8  uint8  uint8   uint8   uint8   uint8   uint8   uint8   uint8   uint8   uint8   uint8   uint8   uint8   uint8   uint8   uint8     uint8     uint8     uint8     uint8     uint8     uint8     uint8     uint8     uint8        uint8        uint8     uint8     uint8     uint8     uint8\n",
       "                  ...    ...      ...      ...      ...      ...       ...    ...        ...    ...     ...     ...     ...     ...     ...     ...     ...     ...     ...      ...      ...      ...    ...    ...    ...    ...    ...    ...    ...    ...    ...    ...     ...     ...     ...     ...     ...     ...     ...     ...     ...     ...     ...     ...     ...     ...       ...       ...       ...       ...       ...       ...       ...       ...       ...          ...          ...       ...       ...       ...       ...\n",
       "Dask Name: assign, 32 tasks"
      ]
     },
     "execution_count": 10,
     "metadata": {},
     "output_type": "execute_result"
    }
   ],
   "source": [
    "correct_skewness(columns=[\"season\",'instant','year','temp','atemp','humidity','windspeed'])"
   ]
  },
  {
   "cell_type": "markdown",
   "metadata": {},
   "source": [
    "# Modeling"
   ]
  },
  {
   "cell_type": "code",
   "execution_count": 11,
   "metadata": {},
   "outputs": [
    {
     "name": "stderr",
     "output_type": "stream",
     "text": [
      "/Users/marcosberges/anaconda3/lib/python3.6/site-packages/distributed/bokeh/core.py:14: UserWarning: \n",
      "Dask needs bokeh >= 0.13.0 for the dashboard.\n",
      "Continuing without the dashboard.\n",
      "  \"\\nDask needs bokeh >= 0.13.0 for the dashboard.\"\n"
     ]
    },
    {
     "data": {
      "text/html": [
       "<table style=\"border: 2px solid white;\">\n",
       "<tr>\n",
       "<td style=\"vertical-align: top; border: 0px solid white\">\n",
       "<h3>Client</h3>\n",
       "<ul>\n",
       "  <li><b>Scheduler: </b>tcp://127.0.0.1:58165\n",
       "</ul>\n",
       "</td>\n",
       "<td style=\"vertical-align: top; border: 0px solid white\">\n",
       "<h3>Cluster</h3>\n",
       "<ul>\n",
       "  <li><b>Workers: </b>4</li>\n",
       "  <li><b>Cores: </b>4</li>\n",
       "  <li><b>Memory: </b>8.59 GB</li>\n",
       "</ul>\n",
       "</td>\n",
       "</tr>\n",
       "</table>"
      ],
      "text/plain": [
       "<Client: scheduler='tcp://127.0.0.1:58165' processes=4 cores=4>"
      ]
     },
     "execution_count": 11,
     "metadata": {},
     "output_type": "execute_result"
    }
   ],
   "source": [
    "client = Client()\n",
    "\n",
    "client"
   ]
  },
  {
   "cell_type": "code",
   "execution_count": 12,
   "metadata": {},
   "outputs": [],
   "source": [
    "def score_lin(X_train, X_test, y_train, y_test):\n",
    "    lm = LinearRegression()\n",
    "    lm.fit(X_train, y_train)\n",
    "    y_pred = lm.predict(X_test)\n",
    "    print(\"Intercept:\", lm.intercept_)\n",
    "    print(\"Coefficients:\", lm.coef_)\n",
    "    print(\"Variance score (R2): {:.2f}\".format(r2_score(y_test.compute(), y_pred.compute())))\n",
    "    return y_pred"
   ]
  },
  {
   "cell_type": "markdown",
   "metadata": {},
   "source": [
    "### Data Split\n",
    "Splitting Data for predicting 3 different values: Registered, Casual and Count\n",
    "    "
   ]
  },
  {
   "cell_type": "code",
   "execution_count": 13,
   "metadata": {},
   "outputs": [],
   "source": [
    "def split_data(dataset, Target):\n",
    "    X = dataset.loc[:, dataset.columns != Target]\n",
    "    y = dataset.loc[:, Target]\n",
    "    train_size = int(len(dataset) * 0.875)\n",
    "    X_train, X_test, y_train, y_test = (\n",
    "        X.loc[0:train_size-1], #dask uses loc instead of iloc, and -1 to avoid repeating in both train and test\n",
    "        X.loc[train_size : len(dataset)],\n",
    "        y.loc[0:train_size-1], #dask uses loc instead of iloc, and -1 to avoid repeating in both train and test\n",
    "        y.loc[train_size : len(dataset)],\n",
    "    )\n",
    "    return X_train, X_test, y_train, y_test"
   ]
  },
  {
   "cell_type": "code",
   "execution_count": 14,
   "metadata": {},
   "outputs": [],
   "source": [
    "x_train_registered, x_test_registered, y_train_registered, y_test_registered = split_data(ddf_onehot, \"registered\")\n",
    "x_train_casual, x_test_casual, y_train_casual, y_test_casual = split_data(ddf_onehot, \"casual\")\n",
    "x_train_count, x_test_count, y_train_count, y_test_count = split_data(ddf_onehot, \"count\")"
   ]
  },
  {
   "cell_type": "code",
   "execution_count": null,
   "metadata": {},
   "outputs": [],
   "source": []
  },
  {
   "cell_type": "markdown",
   "metadata": {},
   "source": [
    "### Converting to arrays\n",
    "\n",
    "\n",
    "The model does not support dask dataframes, so all dask-dfs will be converted  to dask arrays by using the .values method.\n"
   ]
  },
  {
   "cell_type": "markdown",
   "metadata": {},
   "source": [
    "## Count"
   ]
  },
  {
   "cell_type": "code",
   "execution_count": 15,
   "metadata": {},
   "outputs": [],
   "source": [
    "X_train_count = x_train_count.drop([\"casual\", \"registered\"], axis = 1)\n",
    "X_test_count = x_test_count.drop([\"casual\", \"registered\"], axis = 1)"
   ]
  },
  {
   "cell_type": "code",
   "execution_count": 16,
   "metadata": {},
   "outputs": [],
   "source": [
    "X_train_count, X_test_count, \\\n",
    "y_train_count, y_test_count = \\\n",
    "X_train_count.values, X_test_count.values, \\\n",
    "y_train_count.values, y_test_count.values"
   ]
  },
  {
   "cell_type": "code",
   "execution_count": 17,
   "metadata": {},
   "outputs": [
    {
     "name": "stderr",
     "output_type": "stream",
     "text": [
      "/Users/marcosberges/anaconda3/lib/python3.6/site-packages/dask/blockwise.py:590: FutureWarning: elementwise comparison failed; returning scalar instead, but in the future will perform elementwise comparison\n",
      "  contains = index in indices\n",
      "/Users/marcosberges/anaconda3/lib/python3.6/site-packages/dask/blockwise.py:595: FutureWarning: elementwise comparison failed; returning scalar instead, but in the future will perform elementwise comparison\n",
      "  sub[blockwise_token(i)] = blockwise_token(indices.index(index))\n"
     ]
    },
    {
     "name": "stdout",
     "output_type": "stream",
     "text": [
      "Intercept: -47.35351350631875\n",
      "Coefficients: [ 1.38770424e+01  4.83504384e-03  1.37112925e+01  4.63215356e+01\n",
      "  1.05299656e+02  9.74763100e+01 -8.15091170e+01 -3.03264063e+01\n",
      " -9.60728938e+00 -7.13914631e+00  1.22248355e+01  1.88822063e+01\n",
      "  3.37224410e+01  1.27029331e+01 -2.11388494e+01 -5.43995335e+00\n",
      "  1.80206389e+01  3.66165337e+00 -1.45306728e+01 -1.78563421e+01\n",
      " -1.16832963e+02 -1.34274964e+02 -1.42449442e+02 -1.53570743e+02\n",
      " -1.56875302e+02 -1.40770816e+02 -8.36827228e+01  4.60149336e+01\n",
      "  1.78507650e+02  3.88181429e+01 -1.18192452e+01  1.24847300e+01\n",
      "  4.96157372e+01  4.57376870e+01  3.06565555e+01  3.83727313e+01\n",
      "  9.84041908e+01  2.51534414e+02  2.24069489e+02  1.19991129e+02\n",
      "  4.09480260e+01 -7.68843956e+00 -4.48346695e+01 -8.45646780e+01\n",
      "  1.53897658e+01 -3.12029045e+00  8.71178880e+00 -3.34227311e+00\n",
      " -9.47135048e-01  1.58549260e+00  3.38288745e+00  3.37531072e+00\n",
      "  6.94517828e+00  8.88646625e-01  3.36421047e+00  1.56148486e+01\n",
      "  6.24158284e+00 -4.52188991e+01]\n"
     ]
    },
    {
     "name": "stderr",
     "output_type": "stream",
     "text": [
      "/Users/marcosberges/anaconda3/lib/python3.6/site-packages/dask/blockwise.py:590: FutureWarning: elementwise comparison failed; returning scalar instead, but in the future will perform elementwise comparison\n",
      "  contains = index in indices\n",
      "/Users/marcosberges/anaconda3/lib/python3.6/site-packages/dask/blockwise.py:595: FutureWarning: elementwise comparison failed; returning scalar instead, but in the future will perform elementwise comparison\n",
      "  sub[blockwise_token(i)] = blockwise_token(indices.index(index))\n"
     ]
    },
    {
     "name": "stdout",
     "output_type": "stream",
     "text": [
      "Variance score (R2): 0.63\n"
     ]
    }
   ],
   "source": [
    "baseline_count_pred = score_lin(X_train_count, X_test_count, y_train_count, y_test_count)"
   ]
  },
  {
   "cell_type": "markdown",
   "metadata": {},
   "source": [
    "## Registered"
   ]
  },
  {
   "cell_type": "code",
   "execution_count": 18,
   "metadata": {},
   "outputs": [],
   "source": [
    "X_train_registered = x_train_registered.drop([\"casual\", \"count\"], axis = 1)\n",
    "X_test_registered = x_test_registered.drop([\"casual\", \"count\"], axis = 1)"
   ]
  },
  {
   "cell_type": "code",
   "execution_count": 19,
   "metadata": {},
   "outputs": [],
   "source": [
    "X_train_registered, X_test_registered, \\\n",
    "y_train_registered, y_test_registered = \\\n",
    "X_train_registered.values, X_test_registered.values, \\\n",
    "y_train_registered.values, y_test_registered.values"
   ]
  },
  {
   "cell_type": "code",
   "execution_count": 20,
   "metadata": {},
   "outputs": [
    {
     "name": "stderr",
     "output_type": "stream",
     "text": [
      "/Users/marcosberges/anaconda3/lib/python3.6/site-packages/dask/blockwise.py:590: FutureWarning: elementwise comparison failed; returning scalar instead, but in the future will perform elementwise comparison\n",
      "  contains = index in indices\n",
      "/Users/marcosberges/anaconda3/lib/python3.6/site-packages/dask/blockwise.py:595: FutureWarning: elementwise comparison failed; returning scalar instead, but in the future will perform elementwise comparison\n",
      "  sub[blockwise_token(i)] = blockwise_token(indices.index(index))\n"
     ]
    },
    {
     "name": "stdout",
     "output_type": "stream",
     "text": [
      "Intercept: -45.39694045446746\n",
      "Coefficients: [-4.38989127e-01  5.88621132e-03  1.30119505e+01  2.44811991e+01\n",
      "  3.30730437e+01  8.76533390e+01 -5.45731420e+01 -1.20379494e+01\n",
      "  1.80605767e+00  4.51562527e+00  9.78816052e+00  1.19689686e+01\n",
      "  2.50426020e+01  1.36278059e+01 -1.43845957e+01 -3.74713664e+00\n",
      "  1.11262087e+01 -6.22355144e+00 -1.89133594e+01 -1.83450844e+01\n",
      " -9.51486762e+01 -1.09609590e+02 -1.16706452e+02 -1.25574753e+02\n",
      " -1.28339575e+02 -1.14119863e+02 -6.03897752e+01  6.28416889e+01\n",
      "  1.86818217e+02  4.09270509e+01 -2.22735528e+01 -7.55486613e+00\n",
      "  2.35961315e+01  1.74561143e+01  3.90388059e-01  8.95281241e+00\n",
      "  6.94134184e+01  2.19376121e+02  2.02059009e+02  1.07871683e+02\n",
      "  4.02564054e+01 -1.32247241e+00 -3.36733734e+01 -6.74279958e+01\n",
      "  1.53503534e+01 -3.48146665e+00 -2.85750016e+00 -1.08792947e+01\n",
      "  1.71599243e+00  7.46834086e+00  9.06061862e+00  9.30448808e+00\n",
      "  5.50479961e+00 -1.00279673e+01  1.41419720e+01  1.25810381e+01\n",
      "  6.42869134e+00 -3.73423666e+01]\n"
     ]
    },
    {
     "name": "stderr",
     "output_type": "stream",
     "text": [
      "/Users/marcosberges/anaconda3/lib/python3.6/site-packages/dask/blockwise.py:590: FutureWarning: elementwise comparison failed; returning scalar instead, but in the future will perform elementwise comparison\n",
      "  contains = index in indices\n",
      "/Users/marcosberges/anaconda3/lib/python3.6/site-packages/dask/blockwise.py:595: FutureWarning: elementwise comparison failed; returning scalar instead, but in the future will perform elementwise comparison\n",
      "  sub[blockwise_token(i)] = blockwise_token(indices.index(index))\n"
     ]
    },
    {
     "name": "stdout",
     "output_type": "stream",
     "text": [
      "Variance score (R2): 0.63\n"
     ]
    }
   ],
   "source": [
    "baseline_reg_pred = score_lin(X_train_registered, X_test_registered, y_train_registered, y_test_registered)"
   ]
  },
  {
   "cell_type": "markdown",
   "metadata": {},
   "source": [
    "## Casual"
   ]
  },
  {
   "cell_type": "code",
   "execution_count": 21,
   "metadata": {},
   "outputs": [],
   "source": [
    "X_train_casual=x_train_casual.drop([\"count\",\"registered\"],axis=1)\n",
    "X_test_casual=x_test_casual.drop([\"count\",\"registered\"],axis=1)"
   ]
  },
  {
   "cell_type": "code",
   "execution_count": 22,
   "metadata": {},
   "outputs": [],
   "source": [
    "X_train_casual, X_test_casual, \\\n",
    "y_train_casual, y_test_casual = \\\n",
    "X_train_casual.values, X_test_casual.values, \\\n",
    "y_train_casual.values, y_test_casual.values"
   ]
  },
  {
   "cell_type": "code",
   "execution_count": 23,
   "metadata": {},
   "outputs": [
    {
     "name": "stderr",
     "output_type": "stream",
     "text": [
      "/Users/marcosberges/anaconda3/lib/python3.6/site-packages/dask/blockwise.py:590: FutureWarning: elementwise comparison failed; returning scalar instead, but in the future will perform elementwise comparison\n",
      "  contains = index in indices\n",
      "/Users/marcosberges/anaconda3/lib/python3.6/site-packages/dask/blockwise.py:595: FutureWarning: elementwise comparison failed; returning scalar instead, but in the future will perform elementwise comparison\n",
      "  sub[blockwise_token(i)] = blockwise_token(indices.index(index))\n"
     ]
    },
    {
     "name": "stdout",
     "output_type": "stream",
     "text": [
      "Intercept: 0.3261807292656939\n",
      "Coefficients: [-5.72695687e+00 -1.20653180e-03  7.12406474e-01  2.32010051e+01\n",
      "  7.24745824e+01  9.58873335e+00 -2.69230826e+01 -1.82988425e+01\n",
      " -8.61018516e+00 -8.74520148e+00  5.44703591e+00  1.00260824e+01\n",
      "  1.18983271e+01  2.39784633e+00 -3.32951688e+00  1.84668493e+00\n",
      "  1.05501398e+01  1.36508015e+01  8.26607702e+00  4.50306729e+00\n",
      " -1.70627697e+01 -2.00435768e+01 -2.11208489e+01 -2.33730194e+01\n",
      " -2.39132146e+01 -2.20277703e+01 -1.86693772e+01 -1.22029904e+01\n",
      " -3.68694586e+00  2.51461954e+00  1.50771103e+01  2.46618365e+01\n",
      "  3.06414876e+01  3.29030506e+01  3.48874475e+01  3.40410928e+01\n",
      "  3.36118311e+01  3.67795945e+01  2.66325166e+01  1.67423149e+01\n",
      "  5.31526645e+00 -1.74173321e+00 -6.53671436e+00 -1.25116841e+01\n",
      "  5.78276370e+00  6.09208030e+00  1.42044393e+01  1.01701541e+01\n",
      " -1.85955093e-02 -3.24112542e+00 -3.03631226e+00 -3.28770277e+00\n",
      "  4.08182889e+00  1.29095962e+01 -8.79352658e+00  5.31037912e+00\n",
      "  2.08974784e+00 -5.60055774e+00]\n"
     ]
    },
    {
     "name": "stderr",
     "output_type": "stream",
     "text": [
      "/Users/marcosberges/anaconda3/lib/python3.6/site-packages/dask/blockwise.py:590: FutureWarning: elementwise comparison failed; returning scalar instead, but in the future will perform elementwise comparison\n",
      "  contains = index in indices\n",
      "/Users/marcosberges/anaconda3/lib/python3.6/site-packages/dask/blockwise.py:595: FutureWarning: elementwise comparison failed; returning scalar instead, but in the future will perform elementwise comparison\n",
      "  sub[blockwise_token(i)] = blockwise_token(indices.index(index))\n"
     ]
    },
    {
     "name": "stdout",
     "output_type": "stream",
     "text": [
      "Variance score (R2): 0.54\n"
     ]
    }
   ],
   "source": [
    "baseline_casual_pred = score_lin(X_train_casual, X_test_casual, y_train_casual, y_test_casual)"
   ]
  },
  {
   "cell_type": "markdown",
   "metadata": {},
   "source": [
    "### Adding predictions: Casual + Registered"
   ]
  },
  {
   "cell_type": "code",
   "execution_count": 24,
   "metadata": {},
   "outputs": [],
   "source": [
    "added_prediction=baseline_casual_pred+baseline_reg_pred"
   ]
  },
  {
   "cell_type": "code",
   "execution_count": 28,
   "metadata": {},
   "outputs": [
    {
     "name": "stderr",
     "output_type": "stream",
     "text": [
      "/Users/marcosberges/anaconda3/lib/python3.6/site-packages/dask/blockwise.py:590: FutureWarning: elementwise comparison failed; returning scalar instead, but in the future will perform elementwise comparison\n",
      "  contains = index in indices\n"
     ]
    },
    {
     "data": {
      "text/plain": [
       "0.6372334260082841"
      ]
     },
     "execution_count": 28,
     "metadata": {},
     "output_type": "execute_result"
    }
   ],
   "source": [
    "explained_variance_score(y_test_count.compute() ,added_prediction.compute())"
   ]
  }
 ],
 "metadata": {
  "kernelspec": {
   "display_name": "Python 3",
   "language": "python",
   "name": "python3"
  },
  "language_info": {
   "codemirror_mode": {
    "name": "ipython",
    "version": 3
   },
   "file_extension": ".py",
   "mimetype": "text/x-python",
   "name": "python",
   "nbconvert_exporter": "python",
   "pygments_lexer": "ipython3",
   "version": "3.6.5"
  }
 },
 "nbformat": 4,
 "nbformat_minor": 2
}
