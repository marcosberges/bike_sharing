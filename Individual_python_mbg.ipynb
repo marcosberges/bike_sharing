{
 "cells": [
  {
   "cell_type": "code",
   "execution_count": 42,
   "metadata": {},
   "outputs": [],
   "source": [
    "from dask import dataframe as dd\n",
    "import dask_ml\n",
    "from dask_ml.preprocessing import Categorizer, DummyEncoder\n",
    "from sklearn.pipeline import Pipeline, make_pipeline"
   ]
  },
  {
   "cell_type": "code",
   "execution_count": 43,
   "metadata": {},
   "outputs": [],
   "source": [
    "ddf=dd.read_csv(\n",
    "    \"https://gist.githubusercontent.com/geraldwal/b5a83f4c670abe0a662abce558e5d433/raw/bce4bbfc63355606e4503964e25798b5d2190b9b/hour%2520-%2520Python%2520Bike%2520Sharing\",\n",
    "    sep=\",\",\n",
    "    parse_dates=[\"dteday\"])"
   ]
  },
  {
   "cell_type": "code",
   "execution_count": 44,
   "metadata": {},
   "outputs": [],
   "source": [
    "ddf = ddf.rename(\n",
    "    columns={\n",
    "        \"weathersit\": \"weather\",\n",
    "        \"mnth\": \"month\",\n",
    "        \"hr\": \"hour\",\n",
    "        \"hum\": \"humidity\",\n",
    "        \"cnt\": \"count\",\n",
    "        \"yr\": \"year\",\n",
    "    })"
   ]
  },
  {
   "cell_type": "code",
   "execution_count": 45,
   "metadata": {},
   "outputs": [],
   "source": [
    "cats= [\"season\",\"month\",\"hour\",\"holiday\",\"weekday\",\"workingday\",\"weather\"]\n",
    "\n",
    "pipeline = make_pipeline(Categorizer(columns=cats), DummyEncoder(columns=cats))\n",
    "ddf_onehot=pipeline.fit_transform(ddf)\n"
   ]
  },
  {
   "cell_type": "code",
   "execution_count": 46,
   "metadata": {},
   "outputs": [],
   "source": [
    "def split_data(dataset, Target):\n",
    "    X = dataset.loc[:, dataset.columns != Target]\n",
    "    y = dataset.loc[:, Target]\n",
    "    train_size = int(len(dataset) * 0.875)\n",
    "    X_train, X_test, y_train, y_test = (\n",
    "        X.loc[0:train_size], #dask uses loc instead of iloc \n",
    "        X.loc[train_size : len(dataset)],\n",
    "        y.loc[0:train_size],\n",
    "        y.loc[train_size : len(dataset)],\n",
    "    )\n",
    "    return X_train, X_test, y_train, y_test"
   ]
  },
  {
   "cell_type": "code",
   "execution_count": 47,
   "metadata": {},
   "outputs": [],
   "source": [
    "x_train_reg, x_test_reg, y_train_reg, y_test_reg = split_data(ddf_onehot, \"registered\")\n",
    "x_train_casual, x_test_casual, y_train_casual, y_test_casual = split_data(ddf_onehot, \"casual\")\n",
    "x_train_count, x_test_count, y_train_count, y_test_count = split_data(ddf_onehot, \"count\")"
   ]
  },
  {
   "cell_type": "code",
   "execution_count": 40,
   "metadata": {},
   "outputs": [],
   "source": []
  },
  {
   "cell_type": "code",
   "execution_count": null,
   "metadata": {},
   "outputs": [],
   "source": []
  },
  {
   "cell_type": "code",
   "execution_count": null,
   "metadata": {},
   "outputs": [],
   "source": []
  }
 ],
 "metadata": {
  "kernelspec": {
   "display_name": "Python 3",
   "language": "python",
   "name": "python3"
  },
  "language_info": {
   "codemirror_mode": {
    "name": "ipython",
    "version": 3
   },
   "file_extension": ".py",
   "mimetype": "text/x-python",
   "name": "python",
   "nbconvert_exporter": "python",
   "pygments_lexer": "ipython3",
   "version": "3.6.5"
  }
 },
 "nbformat": 4,
 "nbformat_minor": 2
}
